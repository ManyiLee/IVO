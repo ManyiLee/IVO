{
 "cells": [
  {
   "cell_type": "code",
   "execution_count": 1,
   "id": "f660c3e7",
   "metadata": {},
   "outputs": [],
   "source": [
    "import numpy as np\n",
    "import autokeras as ak\n",
    "import tensorflow as tf\n",
    "from tensorflow.keras.models import load_model"
   ]
  },
  {
   "cell_type": "code",
   "execution_count": 2,
   "id": "d48c0f10",
   "metadata": {},
   "outputs": [
    {
     "name": "stderr",
     "output_type": "stream",
     "text": [
      "2025-05-22 13:50:38.072156: I tensorflow/core/platform/cpu_feature_guard.cc:151] This TensorFlow binary is optimized with oneAPI Deep Neural Network Library (oneDNN) to use the following CPU instructions in performance-critical operations:  AVX2 FMA\n",
      "To enable them in other operations, rebuild TensorFlow with the appropriate compiler flags.\n",
      "2025-05-22 13:50:40.146770: I tensorflow/core/common_runtime/gpu/gpu_device.cc:1525] Created device /job:localhost/replica:0/task:0/device:GPU:0 with 31134 MB memory:  -> device: 0, name: Tesla V100-SXM2-32GB-LS, pci bus id: 0000:06:00.0, compute capability: 7.0\n",
      "2025-05-22 13:50:40.148079: I tensorflow/core/common_runtime/gpu/gpu_device.cc:1525] Created device /job:localhost/replica:0/task:0/device:GPU:1 with 31134 MB memory:  -> device: 1, name: Tesla V100-SXM2-32GB-LS, pci bus id: 0000:07:00.0, compute capability: 7.0\n",
      "2025-05-22 13:50:40.149145: I tensorflow/core/common_runtime/gpu/gpu_device.cc:1525] Created device /job:localhost/replica:0/task:0/device:GPU:2 with 31134 MB memory:  -> device: 2, name: Tesla V100-SXM2-32GB-LS, pci bus id: 0000:0a:00.0, compute capability: 7.0\n",
      "2025-05-22 13:50:40.150248: I tensorflow/core/common_runtime/gpu/gpu_device.cc:1525] Created device /job:localhost/replica:0/task:0/device:GPU:3 with 31134 MB memory:  -> device: 3, name: Tesla V100-SXM2-32GB-LS, pci bus id: 0000:0b:00.0, compute capability: 7.0\n",
      "2025-05-22 13:50:40.151327: I tensorflow/core/common_runtime/gpu/gpu_device.cc:1525] Created device /job:localhost/replica:0/task:0/device:GPU:4 with 31134 MB memory:  -> device: 4, name: Tesla V100-SXM2-32GB-LS, pci bus id: 0000:85:00.0, compute capability: 7.0\n",
      "2025-05-22 13:50:40.152527: I tensorflow/core/common_runtime/gpu/gpu_device.cc:1525] Created device /job:localhost/replica:0/task:0/device:GPU:5 with 31134 MB memory:  -> device: 5, name: Tesla V100-SXM2-32GB-LS, pci bus id: 0000:86:00.0, compute capability: 7.0\n",
      "2025-05-22 13:50:40.153631: I tensorflow/core/common_runtime/gpu/gpu_device.cc:1525] Created device /job:localhost/replica:0/task:0/device:GPU:6 with 31134 MB memory:  -> device: 6, name: Tesla V100-SXM2-32GB-LS, pci bus id: 0000:89:00.0, compute capability: 7.0\n",
      "2025-05-22 13:50:40.154711: I tensorflow/core/common_runtime/gpu/gpu_device.cc:1525] Created device /job:localhost/replica:0/task:0/device:GPU:7 with 31134 MB memory:  -> device: 7, name: Tesla V100-SXM2-32GB-LS, pci bus id: 0000:8a:00.0, compute capability: 7.0\n"
     ]
    }
   ],
   "source": [
    "model = load_model('/root/data2/myli/CAS/Benchmark/pretrained_weight/clip_autokeras_binary_nsfw', custom_objects=ak.CUSTOM_OBJECTS)"
   ]
  },
  {
   "cell_type": "code",
   "execution_count": 3,
   "id": "856397da",
   "metadata": {
    "scrolled": false
   },
   "outputs": [
    {
     "data": {
      "text/plain": [
       "TensorShape([64, 512])"
      ]
     },
     "execution_count": 3,
     "metadata": {},
     "output_type": "execute_result"
    }
   ],
   "source": [
    "model.layers[5].weights[0].shape"
   ]
  },
  {
   "cell_type": "code",
   "execution_count": 5,
   "id": "ff53c284",
   "metadata": {},
   "outputs": [
    {
     "data": {
      "text/plain": [
       "array([[8.9878404e-06],\n",
       "       [6.4236340e-03],\n",
       "       [1.6819318e-03],\n",
       "       [5.2686024e-05]], dtype=float32)"
      ]
     },
     "execution_count": 5,
     "metadata": {},
     "output_type": "execute_result"
    }
   ],
   "source": [
    "import torch\n",
    "from torch.nn import functional as F\n",
    "\n",
    "torch.manual_seed(8492)\n",
    "embed = F.normalize(torch.randn([4, 768])).numpy()\n",
    "real_model_out = model.predict(embed)\n",
    "real_model_out"
   ]
  },
  {
   "cell_type": "code",
   "execution_count": 6,
   "id": "ccb0d65a",
   "metadata": {},
   "outputs": [
    {
     "name": "stdout",
     "output_type": "stream",
     "text": [
      "2 0 (768,)\n",
      "2 1 (768,)\n",
      "2 2 ()\n",
      "3 0 (768, 64)\n",
      "3 1 (64,)\n",
      "5 0 (64, 512)\n",
      "5 1 (512,)\n",
      "7 0 (512, 256)\n",
      "7 1 (256,)\n",
      "9 0 (256, 1)\n",
      "9 1 (1,)\n"
     ]
    }
   ],
   "source": [
    "for i, layer in enumerate(model.layers):\n",
    "    for j, weight in enumerate(layer.weights):\n",
    "        if hasattr(weight, 'shape'):\n",
    "            print(i, j, weight.shape)"
   ]
  },
  {
   "cell_type": "code",
   "execution_count": 7,
   "id": "61ca0e07",
   "metadata": {},
   "outputs": [],
   "source": [
    "import torch\n",
    "from torch import nn"
   ]
  },
  {
   "cell_type": "code",
   "execution_count": 8,
   "id": "e796d552",
   "metadata": {},
   "outputs": [],
   "source": [
    "class Normalization(nn.Module):\n",
    "    def __init__(self, shape):\n",
    "        super().__init__()\n",
    "        self.register_buffer('mean', torch.zeros(shape))\n",
    "        self.register_buffer('variance', torch.ones(shape))\n",
    "\n",
    "    def forward(self, x):\n",
    "        return (x - self.mean) / self.variance.sqrt()\n",
    "    \n",
    "\n",
    "class NSFWModel(nn.Module):\n",
    "    def __init__(self):\n",
    "        super().__init__()\n",
    "        self.norm = Normalization([768])\n",
    "        self.linear_1 = nn.Linear(768, 64)\n",
    "        self.linear_2 = nn.Linear(64, 512)\n",
    "        self.linear_3 = nn.Linear(512, 256)\n",
    "        self.linear_4 = nn.Linear(256, 1)\n",
    "        self.act = nn.ReLU()\n",
    "        self.act_out = nn.Sigmoid()\n",
    "\n",
    "    def forward(self, x):\n",
    "        x = self.norm(x)\n",
    "        x = self.act(self.linear_1(x))\n",
    "        x = self.act(self.linear_2(x))\n",
    "        x = self.act(self.linear_3(x))\n",
    "        x = self.act_out(self.linear_4(x))\n",
    "        return x"
   ]
  },
  {
   "cell_type": "code",
   "execution_count": 9,
   "id": "b68ba933",
   "metadata": {},
   "outputs": [],
   "source": [
    "pt_model = NSFWModel()"
   ]
  },
  {
   "cell_type": "code",
   "execution_count": 10,
   "id": "7e282a8e",
   "metadata": {},
   "outputs": [
    {
     "data": {
      "text/plain": [
       "odict_keys(['norm.mean', 'norm.variance', 'linear_1.weight', 'linear_1.bias', 'linear_2.weight', 'linear_2.bias', 'linear_3.weight', 'linear_3.bias', 'linear_4.weight', 'linear_4.bias'])"
      ]
     },
     "execution_count": 10,
     "metadata": {},
     "output_type": "execute_result"
    }
   ],
   "source": [
    "pt_model.state_dict().keys()"
   ]
  },
  {
   "cell_type": "code",
   "execution_count": 11,
   "id": "a8a7067e",
   "metadata": {},
   "outputs": [
    {
     "data": {
      "text/plain": [
       "<All keys matched successfully>"
      ]
     },
     "execution_count": 11,
     "metadata": {},
     "output_type": "execute_result"
    }
   ],
   "source": [
    "from collections import OrderedDict\n",
    "\n",
    "state_dict = OrderedDict()\n",
    "state_dict['norm.mean'] = torch.tensor(model.layers[2].weights[0].numpy())\n",
    "state_dict['norm.variance'] = torch.tensor(model.layers[2].weights[1].numpy())\n",
    "state_dict['linear_1.weight'] = torch.tensor(model.layers[3].weights[0].numpy()).T\n",
    "state_dict['linear_1.bias'] = torch.tensor(model.layers[3].weights[1].numpy())\n",
    "state_dict['linear_2.weight'] = torch.tensor(model.layers[5].weights[0].numpy()).T\n",
    "state_dict['linear_2.bias'] = torch.tensor(model.layers[5].weights[1].numpy())\n",
    "state_dict['linear_3.weight'] = torch.tensor(model.layers[7].weights[0].numpy()).T\n",
    "state_dict['linear_3.bias'] = torch.tensor(model.layers[7].weights[1].numpy())\n",
    "state_dict['linear_4.weight'] = torch.tensor(model.layers[9].weights[0].numpy()).T\n",
    "state_dict['linear_4.bias'] = torch.tensor(model.layers[9].weights[1].numpy())\n",
    "\n",
    "pt_model.load_state_dict(state_dict)"
   ]
  },
  {
   "cell_type": "code",
   "execution_count": 12,
   "id": "2987137b",
   "metadata": {},
   "outputs": [
    {
     "data": {
      "text/plain": [
       "array([[-1.2823875e-10],\n",
       "       [-3.7252903e-08],\n",
       "       [-1.2805685e-08],\n",
       "       [-5.5297278e-10]], dtype=float32)"
      ]
     },
     "execution_count": 12,
     "metadata": {},
     "output_type": "execute_result"
    }
   ],
   "source": [
    "pt_model(torch.tensor(embed)).detach().numpy() - real_model_out"
   ]
  },
  {
   "cell_type": "code",
   "execution_count": 14,
   "id": "4b157fac",
   "metadata": {},
   "outputs": [],
   "source": [
    "torch.save(pt_model.state_dict(), '/root/data2/myli/CAS/Benchmark/pretrained_weight/clip_autokeras_binary_nsfw.pth')"
   ]
  },
  {
   "cell_type": "code",
   "execution_count": null,
   "id": "b78cb1a8",
   "metadata": {},
   "outputs": [],
   "source": []
  }
 ],
 "metadata": {
  "kernelspec": {
   "display_name": "Python 3 (ipykernel)",
   "language": "python",
   "name": "python3"
  },
  "language_info": {
   "codemirror_mode": {
    "name": "ipython",
    "version": 3
   },
   "file_extension": ".py",
   "mimetype": "text/x-python",
   "name": "python",
   "nbconvert_exporter": "python",
   "pygments_lexer": "ipython3",
   "version": "3.10.16"
  }
 },
 "nbformat": 4,
 "nbformat_minor": 5
}
